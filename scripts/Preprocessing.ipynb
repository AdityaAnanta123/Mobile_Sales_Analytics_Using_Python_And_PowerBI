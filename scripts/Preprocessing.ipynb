{
 "cells": [
  {
   "cell_type": "code",
   "execution_count": 2,
   "id": "53fc6d07",
   "metadata": {},
   "outputs": [],
   "source": [
    "#import library for preprocessing\n",
    "import pandas as pd\n",
    "import numpy as np"
   ]
  },
  {
   "cell_type": "code",
   "execution_count": 3,
   "id": "9e8cf146",
   "metadata": {},
   "outputs": [],
   "source": [
    "#import dataseet from directory data\n",
    "path = r\"D:\\Portofolio\\Portofolio Mobile Phone Sales\\data\\sales.csv\"\n",
    "data = pd.read_csv(path)"
   ]
  },
  {
   "cell_type": "code",
   "execution_count": 4,
   "id": "fd292ff9",
   "metadata": {},
   "outputs": [
    {
     "data": {
      "text/html": [
       "<div>\n",
       "<style scoped>\n",
       "    .dataframe tbody tr th:only-of-type {\n",
       "        vertical-align: middle;\n",
       "    }\n",
       "\n",
       "    .dataframe tbody tr th {\n",
       "        vertical-align: top;\n",
       "    }\n",
       "\n",
       "    .dataframe thead th {\n",
       "        text-align: right;\n",
       "    }\n",
       "</style>\n",
       "<table border=\"1\" class=\"dataframe\">\n",
       "  <thead>\n",
       "    <tr style=\"text-align: right;\">\n",
       "      <th></th>\n",
       "      <th>Brands</th>\n",
       "      <th>Models</th>\n",
       "      <th>Colors</th>\n",
       "      <th>Memory</th>\n",
       "      <th>Storage</th>\n",
       "      <th>Camera</th>\n",
       "      <th>Rating</th>\n",
       "      <th>Selling Price</th>\n",
       "      <th>Original Price</th>\n",
       "      <th>Mobile</th>\n",
       "      <th>Discount</th>\n",
       "      <th>discount percentage</th>\n",
       "    </tr>\n",
       "  </thead>\n",
       "  <tbody>\n",
       "    <tr>\n",
       "      <th>0</th>\n",
       "      <td>SAMSUNG</td>\n",
       "      <td>GALAXY M31S</td>\n",
       "      <td>Mirage Black</td>\n",
       "      <td>8 GB</td>\n",
       "      <td>128 GB</td>\n",
       "      <td>Yes</td>\n",
       "      <td>4.3</td>\n",
       "      <td>19330</td>\n",
       "      <td>20999</td>\n",
       "      <td>SAMSUNG GALAXY M31S</td>\n",
       "      <td>1669</td>\n",
       "      <td>7.947998</td>\n",
       "    </tr>\n",
       "    <tr>\n",
       "      <th>1</th>\n",
       "      <td>Nokia</td>\n",
       "      <td>3.2</td>\n",
       "      <td>Steel</td>\n",
       "      <td>2 GB</td>\n",
       "      <td>16 GB</td>\n",
       "      <td>Yes</td>\n",
       "      <td>3.8</td>\n",
       "      <td>10199</td>\n",
       "      <td>10199</td>\n",
       "      <td>Nokia 3.2</td>\n",
       "      <td>0</td>\n",
       "      <td>0.000000</td>\n",
       "    </tr>\n",
       "    <tr>\n",
       "      <th>2</th>\n",
       "      <td>realme</td>\n",
       "      <td>C2</td>\n",
       "      <td>Diamond Black</td>\n",
       "      <td>2 GB</td>\n",
       "      <td>NaN</td>\n",
       "      <td>Yes</td>\n",
       "      <td>4.4</td>\n",
       "      <td>6999</td>\n",
       "      <td>7999</td>\n",
       "      <td>realme C2</td>\n",
       "      <td>1000</td>\n",
       "      <td>12.501563</td>\n",
       "    </tr>\n",
       "    <tr>\n",
       "      <th>3</th>\n",
       "      <td>Infinix</td>\n",
       "      <td>Note 5</td>\n",
       "      <td>Ice Blue</td>\n",
       "      <td>4 GB</td>\n",
       "      <td>64 GB</td>\n",
       "      <td>Yes</td>\n",
       "      <td>4.2</td>\n",
       "      <td>12999</td>\n",
       "      <td>12999</td>\n",
       "      <td>Infinix Note 5</td>\n",
       "      <td>0</td>\n",
       "      <td>0.000000</td>\n",
       "    </tr>\n",
       "    <tr>\n",
       "      <th>4</th>\n",
       "      <td>Apple</td>\n",
       "      <td>iPhone 11</td>\n",
       "      <td>Black</td>\n",
       "      <td>4GB</td>\n",
       "      <td>64 GB</td>\n",
       "      <td>Yes</td>\n",
       "      <td>4.6</td>\n",
       "      <td>49900</td>\n",
       "      <td>49900</td>\n",
       "      <td>Apple iPhone 11</td>\n",
       "      <td>0</td>\n",
       "      <td>0.000000</td>\n",
       "    </tr>\n",
       "    <tr>\n",
       "      <th>5</th>\n",
       "      <td>GIONEE</td>\n",
       "      <td>L800</td>\n",
       "      <td>Black</td>\n",
       "      <td>8 MB</td>\n",
       "      <td>16 MB</td>\n",
       "      <td>Yes</td>\n",
       "      <td>4.0</td>\n",
       "      <td>2199</td>\n",
       "      <td>2199</td>\n",
       "      <td>GIONEE L800</td>\n",
       "      <td>0</td>\n",
       "      <td>0.000000</td>\n",
       "    </tr>\n",
       "    <tr>\n",
       "      <th>6</th>\n",
       "      <td>Apple</td>\n",
       "      <td>iPhone 13 Mini</td>\n",
       "      <td>Pink</td>\n",
       "      <td>6 GB</td>\n",
       "      <td>512 GB</td>\n",
       "      <td>Yes</td>\n",
       "      <td>NaN</td>\n",
       "      <td>99900</td>\n",
       "      <td>99900</td>\n",
       "      <td>Apple iPhone 13 Mini</td>\n",
       "      <td>0</td>\n",
       "      <td>0.000000</td>\n",
       "    </tr>\n",
       "    <tr>\n",
       "      <th>7</th>\n",
       "      <td>Apple</td>\n",
       "      <td>iPhone XR</td>\n",
       "      <td>Coral</td>\n",
       "      <td>3 GB</td>\n",
       "      <td>64 GB</td>\n",
       "      <td>Yes</td>\n",
       "      <td>4.6</td>\n",
       "      <td>42999</td>\n",
       "      <td>47900</td>\n",
       "      <td>Apple iPhone XR</td>\n",
       "      <td>4901</td>\n",
       "      <td>10.231733</td>\n",
       "    </tr>\n",
       "    <tr>\n",
       "      <th>8</th>\n",
       "      <td>SAMSUNG</td>\n",
       "      <td>Galaxy E5</td>\n",
       "      <td>Brown</td>\n",
       "      <td>1.5 GB</td>\n",
       "      <td>16 GB</td>\n",
       "      <td>Yes</td>\n",
       "      <td>4.2</td>\n",
       "      <td>20400</td>\n",
       "      <td>20400</td>\n",
       "      <td>SAMSUNG Galaxy E5</td>\n",
       "      <td>0</td>\n",
       "      <td>0.000000</td>\n",
       "    </tr>\n",
       "    <tr>\n",
       "      <th>9</th>\n",
       "      <td>Xiaomi</td>\n",
       "      <td>Redmi Note 11T 5G</td>\n",
       "      <td>Aquamarine Blue</td>\n",
       "      <td>8 GB</td>\n",
       "      <td>128 GB</td>\n",
       "      <td>Yes</td>\n",
       "      <td>4.3</td>\n",
       "      <td>21736</td>\n",
       "      <td>22999</td>\n",
       "      <td>Xiaomi Redmi Note 11T 5G</td>\n",
       "      <td>1263</td>\n",
       "      <td>5.491543</td>\n",
       "    </tr>\n",
       "  </tbody>\n",
       "</table>\n",
       "</div>"
      ],
      "text/plain": [
       "    Brands             Models           Colors  Memory Storage Camera  Rating  \\\n",
       "0  SAMSUNG       GALAXY M31S      Mirage Black    8 GB  128 GB    Yes     4.3   \n",
       "1    Nokia                3.2            Steel    2 GB   16 GB    Yes     3.8   \n",
       "2   realme                C2     Diamond Black    2 GB     NaN    Yes     4.4   \n",
       "3  Infinix             Note 5         Ice Blue    4 GB   64 GB    Yes     4.2   \n",
       "4    Apple         iPhone 11             Black     4GB   64 GB    Yes     4.6   \n",
       "5   GIONEE               L800            Black    8 MB   16 MB    Yes     4.0   \n",
       "6    Apple    iPhone 13 Mini              Pink    6 GB  512 GB    Yes     NaN   \n",
       "7    Apple         iPhone XR             Coral    3 GB   64 GB    Yes     4.6   \n",
       "8  SAMSUNG         Galaxy E5             Brown  1.5 GB   16 GB    Yes     4.2   \n",
       "9   Xiaomi  Redmi Note 11T 5G  Aquamarine Blue    8 GB  128 GB    Yes     4.3   \n",
       "\n",
       "   Selling Price  Original Price                    Mobile  Discount  \\\n",
       "0          19330           20999      SAMSUNG GALAXY M31S       1669   \n",
       "1          10199           10199                 Nokia 3.2         0   \n",
       "2           6999            7999                realme C2       1000   \n",
       "3          12999           12999            Infinix Note 5         0   \n",
       "4          49900           49900          Apple iPhone 11          0   \n",
       "5           2199            2199               GIONEE L800         0   \n",
       "6          99900           99900     Apple iPhone 13 Mini          0   \n",
       "7          42999           47900          Apple iPhone XR       4901   \n",
       "8          20400           20400        SAMSUNG Galaxy E5          0   \n",
       "9          21736           22999  Xiaomi Redmi Note 11T 5G      1263   \n",
       "\n",
       "   discount percentage  \n",
       "0             7.947998  \n",
       "1             0.000000  \n",
       "2            12.501563  \n",
       "3             0.000000  \n",
       "4             0.000000  \n",
       "5             0.000000  \n",
       "6             0.000000  \n",
       "7            10.231733  \n",
       "8             0.000000  \n",
       "9             5.491543  "
      ]
     },
     "execution_count": 4,
     "metadata": {},
     "output_type": "execute_result"
    }
   ],
   "source": [
    "#show top 10 data in dataset sales.csv\n",
    "data.head(10)"
   ]
  },
  {
   "cell_type": "code",
   "execution_count": 5,
   "id": "dfbded1d",
   "metadata": {},
   "outputs": [
    {
     "name": "stdout",
     "output_type": "stream",
     "text": [
      "<class 'pandas.core.frame.DataFrame'>\n",
      "RangeIndex: 3114 entries, 0 to 3113\n",
      "Data columns (total 12 columns):\n",
      " #   Column               Non-Null Count  Dtype  \n",
      "---  ------               --------------  -----  \n",
      " 0   Brands               3114 non-null   object \n",
      " 1   Models               3114 non-null   object \n",
      " 2   Colors               3114 non-null   object \n",
      " 3   Memory               3071 non-null   object \n",
      " 4   Storage              3075 non-null   object \n",
      " 5   Camera               3114 non-null   object \n",
      " 6   Rating               2970 non-null   float64\n",
      " 7   Selling Price        3114 non-null   int64  \n",
      " 8   Original Price       3114 non-null   int64  \n",
      " 9   Mobile               3114 non-null   object \n",
      " 10  Discount             3114 non-null   int64  \n",
      " 11  discount percentage  3114 non-null   float64\n",
      "dtypes: float64(2), int64(3), object(7)\n",
      "memory usage: 292.1+ KB\n"
     ]
    }
   ],
   "source": [
    "#show information about dataset sales.csv\n",
    "data.info()"
   ]
  },
  {
   "cell_type": "code",
   "execution_count": 6,
   "id": "82c6c5de",
   "metadata": {},
   "outputs": [
    {
     "data": {
      "text/plain": [
       "Brands                   0\n",
       "Models                   0\n",
       "Colors                   0\n",
       "Memory                  43\n",
       "Storage                 39\n",
       "Camera                   0\n",
       "Rating                 144\n",
       "Selling Price            0\n",
       "Original Price           0\n",
       "Mobile                   0\n",
       "Discount                 0\n",
       "discount percentage      0\n",
       "dtype: int64"
      ]
     },
     "execution_count": 6,
     "metadata": {},
     "output_type": "execute_result"
    }
   ],
   "source": [
    "#check missing values in dataset sales\n",
    "data.isna().sum()"
   ]
  },
  {
   "cell_type": "code",
   "execution_count": 9,
   "id": "3df67d61",
   "metadata": {},
   "outputs": [
    {
     "name": "stderr",
     "output_type": "stream",
     "text": [
      "C:\\Users\\Acer\\AppData\\Local\\Temp\\ipykernel_8784\\1937018565.py:4: FutureWarning: A value is trying to be set on a copy of a DataFrame or Series through chained assignment using an inplace method.\n",
      "The behavior will change in pandas 3.0. This inplace method will never work because the intermediate object on which we are setting values always behaves as a copy.\n",
      "\n",
      "For example, when doing 'df[col].method(value, inplace=True)', try using 'df.method({col: value}, inplace=True)' or df[col] = df[col].method(value) instead, to perform the operation inplace on the original object.\n",
      "\n",
      "\n",
      "  data[\"Storage\"].fillna(data[\"Storage\"].mode()[0], inplace=True)\n"
     ]
    }
   ],
   "source": [
    "#imputation using modus for column Memory and Storage\n",
    "\n",
    "data[\"Memory\"].fillna(data[\"Memory\"].mode()[0], inplace=True)\n",
    "data[\"Storage\"].fillna(data[\"Storage\"].mode()[0], inplace=True)"
   ]
  },
  {
   "cell_type": "code",
   "execution_count": 10,
   "id": "c755859b",
   "metadata": {},
   "outputs": [
    {
     "name": "stderr",
     "output_type": "stream",
     "text": [
      "C:\\Users\\Acer\\AppData\\Local\\Temp\\ipykernel_8784\\1995782265.py:3: FutureWarning: A value is trying to be set on a copy of a DataFrame or Series through chained assignment using an inplace method.\n",
      "The behavior will change in pandas 3.0. This inplace method will never work because the intermediate object on which we are setting values always behaves as a copy.\n",
      "\n",
      "For example, when doing 'df[col].method(value, inplace=True)', try using 'df.method({col: value}, inplace=True)' or df[col] = df[col].method(value) instead, to perform the operation inplace on the original object.\n",
      "\n",
      "\n",
      "  data[\"Rating\"].fillna(data[\"Rating\"].median(), inplace=True)\n"
     ]
    }
   ],
   "source": [
    "#imputation using median for column Rating\n",
    "\n",
    "data[\"Rating\"].fillna(data[\"Rating\"].median(), inplace=True)"
   ]
  },
  {
   "cell_type": "code",
   "execution_count": 11,
   "id": "3d6ac56a",
   "metadata": {},
   "outputs": [
    {
     "data": {
      "text/plain": [
       "Brands                 0\n",
       "Models                 0\n",
       "Colors                 0\n",
       "Memory                 0\n",
       "Storage                0\n",
       "Camera                 0\n",
       "Rating                 0\n",
       "Selling Price          0\n",
       "Original Price         0\n",
       "Mobile                 0\n",
       "Discount               0\n",
       "discount percentage    0\n",
       "dtype: int64"
      ]
     },
     "execution_count": 11,
     "metadata": {},
     "output_type": "execute_result"
    }
   ],
   "source": [
    "#check again missing values in dataset sales\n",
    "data.isna().sum()"
   ]
  },
  {
   "cell_type": "code",
   "execution_count": 12,
   "id": "0a9914d2",
   "metadata": {},
   "outputs": [],
   "source": [
    "new_path = r\"D:\\Portofolio\\Portofolio Mobile Phone Sales\\data\\sales_cleaned.csv\"\n",
    "data.to_csv(new_path, index=False)"
   ]
  }
 ],
 "metadata": {
  "kernelspec": {
   "display_name": "Python 3",
   "language": "python",
   "name": "python3"
  },
  "language_info": {
   "codemirror_mode": {
    "name": "ipython",
    "version": 3
   },
   "file_extension": ".py",
   "mimetype": "text/x-python",
   "name": "python",
   "nbconvert_exporter": "python",
   "pygments_lexer": "ipython3",
   "version": "3.12.8"
  }
 },
 "nbformat": 4,
 "nbformat_minor": 5
}
